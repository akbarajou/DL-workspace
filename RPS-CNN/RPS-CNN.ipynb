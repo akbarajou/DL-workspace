{
 "cells": [
  {
   "cell_type": "markdown",
   "metadata": {},
   "source": [
    "# **_Rock-Paper-Scissors Classification with Convolutional Neural Networks (CNN)_**\n",
    "\n",
    "## Overview\n",
    "\n",
    "In this notebook, we will demonstrate how to build a Convolutional Neural Network (CNN) for classifying hand gestures of Rock, Paper, and Scissors. The CNN will be trained using TensorFlow and Keras on a dataset of hand gesture images and evaluated for its accuracy in recognizing these gestures. This notebook is divided into the following main steps:\n",
    "\n",
    "1. **Importing Libraries**: We will begin by importing the necessary libraries required for building and training our CNN model.\n",
    "2. **Dataset Preparation**: We'll load and preprocess the Rock-Paper-Scissors dataset, including augmenting images for better training performance.\n",
    "3. **Model Building**: We'll design a Convolutional Neural Network (CNN) tailored to classify Rock-Paper-Scissors gestures accurately.\n",
    "4. **Model Training**: The model will be trained using the prepared dataset, with appropriate hyperparameter tuning for optimization.\n",
    "5. **Model Evaluation**: Finally, we will evaluate the trained model on test data to verify its performance and visualize predictions.\n",
    "\n",
    "## Procedure\n",
    "\n",
    "### **_1. Importing Necessary Libraries_**\n",
    "To start building and training our Convolutional Neural Network for Rock-Paper-Scissors classification, we need to import several essential libraries. Below is the list of libraries utilized in this project:\n"
   ]
  },
  {
   "cell_type": "code",
   "execution_count": 6,
   "metadata": {},
   "outputs": [],
   "source": [
    "import tensorflow as tf\n",
    "import tensorflow_datasets as tfds \n",
    "import cv2\n",
    "import matplotlib.pyplot as plt\n",
    "import numpy as np\n",
    "import os"
   ]
  },
  {
   "cell_type": "markdown",
   "metadata": {},
   "source": [
    "**_tensorflow:_** The primary library for building and training the CNN model.  \n",
    "**_cv2:_** Used for image processing tasks like loading, resizing, and manipulating images.  \n",
    "**_matplotlib.pyplot:_** Used for visualizing images and displaying results.  \n",
    "**_numpy:_** For numerical operations, particularly for handling image arrays.  \n",
    "**_os:_** For file system operations, such as checking directories or loading custom images.\n",
    "\n",
    "\n",
    "### **_2. Loading the Dataset_**\n",
    "We will now load the Rock-Paper-Scissors dataset, which contains images of hand gestures for Rock, Paper, and Scissors. The dataset is available in the TensorFlow Datasets library, which we can load using the `tfds.load()` function. We will also visualize a few samples from the dataset to understand the image dimensions and labels."
   ]
  },
  {
   "cell_type": "code",
   "execution_count": 7,
   "metadata": {},
   "outputs": [
    {
     "name": "stderr",
     "output_type": "stream",
     "text": [
      "2024-11-18 23:20:47.814186: W tensorflow/tsl/platform/cloud/google_auth_provider.cc:184] All attempts to get a Google authentication bearer token failed, returning an empty token. Retrieving token from files failed with \"NOT_FOUND: Could not locate the credentials file.\". Retrieving token from GCE failed with \"FAILED_PRECONDITION: Error executing an HTTP request: libcurl code 6 meaning 'Couldn't resolve host name', error details: Could not resolve host: metadata.google.internal\".\n"
     ]
    },
    {
     "name": "stdout",
     "output_type": "stream",
     "text": [
      "\u001b[1mDownloading and preparing dataset 219.53 MiB (download: 219.53 MiB, generated: Unknown size, total: 219.53 MiB) to dataset/rock_paper_scissors/3.0.0...\u001b[0m\n"
     ]
    },
    {
     "name": "stderr",
     "output_type": "stream",
     "text": [
      "Dl Size...: 100%|██████████| 219/219 [00:47<00:00,  4.63 MiB/s]]\n",
      "Dl Completed...: 100%|██████████| 2/2 [00:47<00:00, 23.66s/ url]\n",
      "                                                                        \r"
     ]
    },
    {
     "name": "stdout",
     "output_type": "stream",
     "text": [
      "\u001b[1mDataset rock_paper_scissors downloaded and prepared to dataset/rock_paper_scissors/3.0.0. Subsequent calls will reuse this data.\u001b[0m\n"
     ]
    }
   ],
   "source": [
    "(dataset_train_raw, dataset_test_raw), dataset_info = tfds.load(\n",
    "    name='rock_paper_scissors',\n",
    "    data_dir='dataset/',\n",
    "    with_info=True,\n",
    "    as_supervised=True,\n",
    "    split=[tfds.Split.TRAIN, tfds.Split.TEST],\n",
    ")"
   ]
  }
 ],
 "metadata": {
  "kernelspec": {
   "display_name": "tensorflow",
   "language": "python",
   "name": "python3"
  },
  "language_info": {
   "codemirror_mode": {
    "name": "ipython",
    "version": 3
   },
   "file_extension": ".py",
   "mimetype": "text/x-python",
   "name": "python",
   "nbconvert_exporter": "python",
   "pygments_lexer": "ipython3",
   "version": "3.8.20"
  }
 },
 "nbformat": 4,
 "nbformat_minor": 2
}
